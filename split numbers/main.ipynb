{
 "cells": [
  {
   "cell_type": "code",
   "execution_count": null,
   "metadata": {},
   "outputs": [],
   "source": [
    "import os\n",
    "import cv2\n",
    "import numpy as np\n",
    "import matplotlib.pyplot as plt"
   ]
  },
  {
   "cell_type": "code",
   "execution_count": null,
   "metadata": {},
   "outputs": [],
   "source": [
    "img = cv2.imread('img/mnist.png', 0)\n",
    "plt.imshow(img, cmap='gray')\n",
    "plt.show()"
   ]
  },
  {
   "cell_type": "code",
   "execution_count": null,
   "metadata": {},
   "outputs": [],
   "source": [
    "for i in range(10):\n",
    "    try:\n",
    "        os.mkdir(f'output/{i}')\n",
    "    except FileExistsError:\n",
    "        print('Folders already exists.')"
   ]
  },
  {
   "cell_type": "code",
   "execution_count": null,
   "metadata": {},
   "outputs": [],
   "source": [
    "rows, cols = img.shape\n",
    "print(rows, cols)\n",
    "# we have 10*5=50 numbers in rows so they are 100 in column(rows=2cols)"
   ]
  },
  {
   "cell_type": "code",
   "execution_count": null,
   "metadata": {},
   "outputs": [],
   "source": [
    "for index, i in enumerate(range(0, rows, 20)):\n",
    "    for j in range(0, cols, 20):\n",
    "        folder_number = index//5\n",
    "        small_img = img[i:i+20, j:j+20]\n",
    "        cv2.imwrite(f'output/{folder_number}/{i}{j}.jpg', small_img)"
   ]
  }
 ],
 "metadata": {
  "kernelspec": {
   "display_name": "Python 3",
   "language": "python",
   "name": "python3"
  },
  "language_info": {
   "name": "python",
   "version": "3.10.2 (tags/v3.10.2:a58ebcc, Jan 17 2022, 14:12:15) [MSC v.1929 64 bit (AMD64)]"
  },
  "orig_nbformat": 4,
  "vscode": {
   "interpreter": {
    "hash": "28184629a3c6f2fc19e369ab05e82c9cde4da92f25a3342cdce2eb0173a15eb8"
   }
  }
 },
 "nbformat": 4,
 "nbformat_minor": 2
}
