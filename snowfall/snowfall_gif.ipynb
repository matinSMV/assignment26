{
 "cells": [
  {
   "cell_type": "code",
   "execution_count": 1,
   "metadata": {},
   "outputs": [],
   "source": [
    "import random\n",
    "import cv2\n",
    "import numpy as np\n",
    "import matplotlib.pyplot as plt\n",
    "from cvzone import overlayPNG\n",
    "import imageio"
   ]
  },
  {
   "cell_type": "code",
   "execution_count": 2,
   "metadata": {},
   "outputs": [],
   "source": [
    "background_img = cv2.imread('img/photo.jpg')\n",
    "snowflakes = []\n",
    "sf_size = 15\n",
    "for i in range(3):\n",
    "    snowflake_img = cv2.imread(f'img/snowflake-{i}.png', -1)\n",
    "    small_snowflake = cv2.resize(snowflake_img, (sf_size , sf_size))\n",
    "    snowflakes.append(small_snowflake)"
   ]
  },
  {
   "cell_type": "code",
   "execution_count": 3,
   "metadata": {},
   "outputs": [],
   "source": [
    "y, x, _ = background_img.shape\n",
    "sf_pos = [] # stores sf's position\n",
    "for i in range(200): # quantity of sf's are 50\n",
    "    temp_x = random.choice(range(50, x-sf_size))\n",
    "    temp_y = random.choice(range(50, y-sf_size))\n",
    "    sf_pos.append([temp_y, temp_x])"
   ]
  },
  {
   "cell_type": "code",
   "execution_count": 4,
   "metadata": {},
   "outputs": [],
   "source": [
    "# frame_list = [] # stores all the frames\n",
    "with imageio.get_writer(\"snow.gif\", mode=\"I\") as writer:\n",
    "    for i in range(200): # quantity of frames\n",
    "        frame = background_img\n",
    "        for j in range(200): # should be same as sf's quantity\n",
    "            frame = overlayPNG(frame, snowflakes[j%3], (sf_pos[j][1], sf_pos[j][0])) # snowflakes[] used to make 3 model of sf's- note that i am using index 0 only for output\n",
    "            sf_pos[j][0] += 4\n",
    "            rnd_x = random.choices([0, 4, -4], weights=[30,35,35])[0]\n",
    "            sf_pos[j][1] += rnd_x\n",
    "            if sf_pos[j][0]<0 or sf_pos[j][0]+sf_size>=y or sf_pos[j][1]<0 or sf_pos[j][1]+sf_size>=x:\n",
    "                sf_pos[j][0] = 0\n",
    "                sf_pos[j][1] = random.randint(0, x-sf_size-1) # 10+1:sf's size+1 for array ending\n",
    "                \n",
    "        rgb_frame = cv2.cvtColor(frame, cv2.COLOR_BGR2RGB)\n",
    "        writer.append_data(rgb_frame)"
   ]
  }
 ],
 "metadata": {
  "kernelspec": {
   "display_name": "Python 3",
   "language": "python",
   "name": "python3"
  },
  "language_info": {
   "codemirror_mode": {
    "name": "ipython",
    "version": 3
   },
   "file_extension": ".py",
   "mimetype": "text/x-python",
   "name": "python",
   "nbconvert_exporter": "python",
   "pygments_lexer": "ipython3",
   "version": "3.10.2"
  },
  "orig_nbformat": 4,
  "vscode": {
   "interpreter": {
    "hash": "28184629a3c6f2fc19e369ab05e82c9cde4da92f25a3342cdce2eb0173a15eb8"
   }
  }
 },
 "nbformat": 4,
 "nbformat_minor": 2
}
